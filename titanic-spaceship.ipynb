{
 "cells": [
  {
   "cell_type": "code",
   "execution_count": 1,
   "metadata": {},
   "outputs": [],
   "source": [
    "# Importing used libraries\n",
    "\n",
    "import pandas as pd\n",
    "import numpy as np\n",
    "import seaborn as sns\n",
    "import matplotlib.pyplot as plt\n",
    "from sklearn.impute import SimpleImputer\n",
    "from sklearn.metrics import accuracy_score\n",
    "from sklearn.ensemble import RandomForestClassifier\n",
    "from sklearn.preprocessing import StandardScaler\n",
    "from sklearn.preprocessing import MinMaxScaler\n",
    "from sklearn.preprocessing import LabelEncoder\n",
    "from sklearn.model_selection import train_test_split\n",
    "import xgboost as xgb\n",
    "import tensorflow as tf\n",
    "from sklearn.linear_model import LinearRegression\n",
    "from sklearn.svm import SVC\n",
    "from tensorflow import keras\n",
    "\n",
    "\n"
   ]
  },
  {
   "cell_type": "code",
   "execution_count": 2,
   "metadata": {},
   "outputs": [],
   "source": [
    "# Reading train and test data\n",
    "raw_df = pd.read_csv('spaceship-titanic.csv')\n",
    "raw_test = pd.read_csv('test.csv')\n",
    "df = raw_df.copy()\n",
    "test = raw_test.copy()"
   ]
  },
  {
   "cell_type": "code",
   "execution_count": 3,
   "metadata": {},
   "outputs": [
    {
     "name": "stdout",
     "output_type": "stream",
     "text": [
      "<class 'pandas.core.frame.DataFrame'>\n",
      "RangeIndex: 8693 entries, 0 to 8692\n",
      "Data columns (total 14 columns):\n",
      " #   Column        Non-Null Count  Dtype  \n",
      "---  ------        --------------  -----  \n",
      " 0   PassengerId   8693 non-null   object \n",
      " 1   HomePlanet    8492 non-null   object \n",
      " 2   CryoSleep     8476 non-null   object \n",
      " 3   Cabin         8494 non-null   object \n",
      " 4   Destination   8511 non-null   object \n",
      " 5   Age           8514 non-null   float64\n",
      " 6   VIP           8490 non-null   object \n",
      " 7   RoomService   8512 non-null   float64\n",
      " 8   FoodCourt     8510 non-null   float64\n",
      " 9   ShoppingMall  8485 non-null   float64\n",
      " 10  Spa           8510 non-null   float64\n",
      " 11  VRDeck        8505 non-null   float64\n",
      " 12  Name          8493 non-null   object \n",
      " 13  Transported   8693 non-null   bool   \n",
      "dtypes: bool(1), float64(6), object(7)\n",
      "memory usage: 891.5+ KB\n"
     ]
    }
   ],
   "source": [
    "raw_df.info()"
   ]
  },
  {
   "cell_type": "code",
   "execution_count": 4,
   "metadata": {},
   "outputs": [],
   "source": [
    "# Filling nan values of some numerical columns with most frequent which is 0\n",
    "paid_cols = [\n",
    "    'RoomService',\n",
    "    'FoodCourt',\n",
    "    'ShoppingMall',\n",
    "    'Spa',\n",
    "    'VRDeck',\n",
    "]\n",
    "df[paid_cols] = df[paid_cols].fillna(0)\n",
    "test[paid_cols] = test[paid_cols].fillna(0)\n",
    "\n",
    "# Creating additive feature\n",
    "df['Paid'] = df['RoomService'] + df['FoodCourt'] + df['ShoppingMall'] + df['Spa'] + df['VRDeck']\n",
    "test['Paid'] = test['RoomService'] + test['FoodCourt'] + test['ShoppingMall'] + test['Spa'] + test['VRDeck']"
   ]
  },
  {
   "cell_type": "code",
   "execution_count": 5,
   "metadata": {},
   "outputs": [],
   "source": [
    "# Imputing test (and train) data nan values with most frequency strategy\n",
    "imputer = SimpleImputer(strategy='most_frequent')\n",
    "#df_filled = imputer.fit_transform(df)\n",
    "test_filled = imputer.fit_transform(test)\n",
    "#df = pd.DataFrame(df_filled, columns=df.columns)\n",
    "test = pd.DataFrame(test_filled, columns=test.columns)"
   ]
  },
  {
   "cell_type": "code",
   "execution_count": 6,
   "metadata": {},
   "outputs": [],
   "source": [
    "# Splitting the Cabin column and creating 3 new columns that mat be meaningful\n",
    "df[['deck', 'num', 'side']] = df['Cabin'].str.split('/', expand=True)\n",
    "test[['deck', 'num', 'side']] = test['Cabin'].str.split('/', expand=True)\n"
   ]
  },
  {
   "cell_type": "code",
   "execution_count": 7,
   "metadata": {},
   "outputs": [],
   "source": [
    "# Label encoding the new side column as it has only 2 unique values\n",
    "le = LabelEncoder()\n",
    "df['side'] = le.fit_transform(df['side'])\n",
    "test['side'] = le.fit_transform(test['side'])"
   ]
  },
  {
   "cell_type": "code",
   "execution_count": 8,
   "metadata": {},
   "outputs": [],
   "source": [
    "# Droping unimportant columns\n",
    "redun = {\n",
    "    'Name',\n",
    "    'PassengerId',\n",
    "    'Cabin',\n",
    "    'num'\n",
    "}\n",
    "df.drop(redun, axis = 1, inplace = True)\n",
    "test.drop(redun, axis = 1, inplace = True)"
   ]
  },
  {
   "cell_type": "code",
   "execution_count": 9,
   "metadata": {},
   "outputs": [
    {
     "data": {
      "text/plain": [
       "Index(['HomePlanet', 'CryoSleep', 'Destination', 'Age', 'VIP', 'RoomService',\n",
       "       'FoodCourt', 'ShoppingMall', 'Spa', 'VRDeck', 'Transported', 'Paid',\n",
       "       'deck', 'side'],\n",
       "      dtype='object')"
      ]
     },
     "execution_count": 9,
     "metadata": {},
     "output_type": "execute_result"
    }
   ],
   "source": [
    "df.columns"
   ]
  },
  {
   "cell_type": "code",
   "execution_count": 10,
   "metadata": {},
   "outputs": [],
   "source": [
    "# Imputing Age column with Random Forest model\n",
    "target_variable = 'Age'\n",
    "df['Age'] = df['Age'].replace(0, np.nan)\n",
    "\n",
    "predictor_variables = ['CryoSleep', 'VIP', 'RoomService',\n",
    "       'FoodCourt', 'ShoppingMall', 'Spa', 'VRDeck']\n",
    "\n",
    "imputer = SimpleImputer(strategy='mean')\n",
    "predictor_df = df.copy()\n",
    "predictor_df[predictor_variables] = imputer.fit_transform(predictor_df[predictor_variables])\n",
    "\n",
    "train_data = predictor_df[~predictor_df[target_variable].isna()]\n",
    "test_data = predictor_df[predictor_df[target_variable].isna()]\n",
    "\n",
    "model = RandomForestClassifier()\n",
    "\n",
    "model.fit(train_data[predictor_variables], train_data[target_variable])\n",
    "\n",
    "missing_values = model.predict(test_data[predictor_variables])\n",
    "\n",
    "df.loc[df[target_variable].isna(), target_variable] = missing_values"
   ]
  },
  {
   "cell_type": "code",
   "execution_count": 11,
   "metadata": {},
   "outputs": [],
   "source": [
    "# Descretizing Age column\n",
    "\n",
    "age_bins = [0, 10, 20, 30, 40, 50, 60, 70, 80]\n",
    "age_labels = ['0-9', '10-19', '20-29', '30-39', '40-49', '50-59', '60-69', '70-79']\n",
    "\n",
    "df['AgeRange'] = pd.cut(df['Age'], bins=age_bins, labels=age_labels)\n",
    "test['AgeRange'] = pd.cut(test['Age'], bins=age_bins, labels=age_labels)\n",
    "\n",
    "df.drop('Age', axis = 1, inplace = True)\n",
    "test.drop('Age', axis = 1, inplace = True)\n"
   ]
  },
  {
   "cell_type": "code",
   "execution_count": 12,
   "metadata": {},
   "outputs": [],
   "source": [
    "# Droping other rows with nan values\n",
    "\n",
    "df = df.dropna()"
   ]
  },
  {
   "cell_type": "code",
   "execution_count": 13,
   "metadata": {},
   "outputs": [],
   "source": [
    "# Casting boolean columns as integers\n",
    "cols = ['CryoSleep', 'VIP']\n",
    "df['Transported'] = df['Transported'].astype(int)\n",
    "\n",
    "for col in cols:\n",
    "    df[col] = df[col].astype(int)\n",
    "    test[col] = test[col].astype(int)"
   ]
  },
  {
   "cell_type": "code",
   "execution_count": 14,
   "metadata": {},
   "outputs": [
    {
     "name": "stdout",
     "output_type": "stream",
     "text": [
      "<class 'pandas.core.frame.DataFrame'>\n",
      "Index: 7736 entries, 0 to 8692\n",
      "Data columns (total 36 columns):\n",
      " #   Column         Non-Null Count  Dtype   \n",
      "---  ------         --------------  -----   \n",
      " 0   HomePlanet     7736 non-null   object  \n",
      " 1   CryoSleep      7736 non-null   int32   \n",
      " 2   Destination    7736 non-null   object  \n",
      " 3   VIP            7736 non-null   int32   \n",
      " 4   RoomService    7736 non-null   float64 \n",
      " 5   FoodCourt      7736 non-null   float64 \n",
      " 6   ShoppingMall   7736 non-null   float64 \n",
      " 7   Spa            7736 non-null   float64 \n",
      " 8   VRDeck         7736 non-null   float64 \n",
      " 9   Transported    7736 non-null   int32   \n",
      " 10  Paid           7736 non-null   float64 \n",
      " 11  deck           7736 non-null   object  \n",
      " 12  side           7736 non-null   int32   \n",
      " 13  AgeRange       7736 non-null   category\n",
      " 14  55 Cancri e    7736 non-null   int32   \n",
      " 15  PSO J318.5-22  7736 non-null   int32   \n",
      " 16  TRAPPIST-1e    7736 non-null   int32   \n",
      " 17  Earth          7736 non-null   int32   \n",
      " 18  Europa         7736 non-null   int32   \n",
      " 19  Mars           7736 non-null   int32   \n",
      " 20  A              7736 non-null   int32   \n",
      " 21  B              7736 non-null   int32   \n",
      " 22  C              7736 non-null   int32   \n",
      " 23  D              7736 non-null   int32   \n",
      " 24  E              7736 non-null   int32   \n",
      " 25  F              7736 non-null   int32   \n",
      " 26  G              7736 non-null   int32   \n",
      " 27  T              7736 non-null   int32   \n",
      " 28  0-9            7736 non-null   int32   \n",
      " 29  10-19          7736 non-null   int32   \n",
      " 30  20-29          7736 non-null   int32   \n",
      " 31  30-39          7736 non-null   int32   \n",
      " 32  40-49          7736 non-null   int32   \n",
      " 33  50-59          7736 non-null   int32   \n",
      " 34  60-69          7736 non-null   int32   \n",
      " 35  70-79          7736 non-null   int32   \n",
      "dtypes: category(1), float64(6), int32(26), object(3)\n",
      "memory usage: 1.4+ MB\n"
     ]
    }
   ],
   "source": [
    "# One hot encoding other categorical values\n",
    "cols = ['Destination', 'HomePlanet', 'deck', 'AgeRange']\n",
    "#cols = ['Destination', 'HomePlanet', 'deck']\n",
    "data = df\n",
    "for col1 in cols:\n",
    "    dummies = pd.get_dummies(df[col1], dtype=int)\n",
    "    data = pd.concat([data, dummies], axis=1)\n",
    "\n",
    "datat = test\n",
    "for col2 in cols:\n",
    "    dummies = pd.get_dummies(test[col2], dtype=int)\n",
    "    datat = pd.concat([datat, dummies], axis=1)\n",
    "data.info()\n"
   ]
  },
  {
   "cell_type": "code",
   "execution_count": 15,
   "metadata": {},
   "outputs": [],
   "source": [
    "# Dropping unimportant columns\n",
    "data.drop(data[cols], axis=1, inplace=True)\n",
    "datat.drop(datat[cols], axis=1, inplace=True)\n"
   ]
  },
  {
   "cell_type": "code",
   "execution_count": 16,
   "metadata": {},
   "outputs": [],
   "source": [
    "# Train test split (+Normalization)\n",
    "X, y = data.drop('Transported', axis=1), data['Transported']\n",
    "\n",
    "# scaler = MinMaxScaler()\n",
    "# X = scaler.fit_transform(X)\n",
    "\n",
    "X_train, X_test, y_train, y_test = train_test_split(X, y, test_size=0.1, random_state=60)\n",
    "\n",
    "# X_train = scaler.fit_transform(X_train)\n",
    "# X_test = scaler.fit_transform(X_test)\n"
   ]
  },
  {
   "cell_type": "code",
   "execution_count": 17,
   "metadata": {},
   "outputs": [
    {
     "name": "stdout",
     "output_type": "stream",
     "text": [
      "train accuracy =  0.9238724504452743\n",
      "test accuracy  =  0.813953488372093\n"
     ]
    }
   ],
   "source": [
    "# Training Random Forest model\n",
    "model = RandomForestClassifier()\n",
    "model.fit(X_train, y_train)\n",
    "preds = model.predict(X_test)\n",
    "print('train accuracy = ' , accuracy_score(y_train, model.predict(X_train)))\n",
    "print('test accuracy  = ' , accuracy_score(y_test, preds))\n"
   ]
  },
  {
   "cell_type": "code",
   "execution_count": 24,
   "metadata": {},
   "outputs": [
    {
     "name": "stdout",
     "output_type": "stream",
     "text": [
      "train accuracy =  0.8987359954036197\n",
      "test accuracy  =  0.8242894056847545\n"
     ]
    }
   ],
   "source": [
    "# Training XGBoost model\n",
    "model = xgb.XGBClassifier()\n",
    "model.fit(X_train, y_train)\n",
    "preds = model.predict(X_test)\n",
    "print('train accuracy = ' , accuracy_score(y_train, model.predict(X_train)))\n",
    "print('test accuracy  = ' , accuracy_score(y_test, preds))"
   ]
  },
  {
   "cell_type": "code",
   "execution_count": 19,
   "metadata": {},
   "outputs": [],
   "source": [
    "# # Create and train SVM \n",
    "# svm_classifier = SVC(kernel='linear', C=1.0)\n",
    "# svm_classifier.fit(X_train, y_train)\n",
    "\n",
    "# # Make predictions on the test set\n",
    "# y_pred = svm_classifier.predict(X_test)\n",
    "\n",
    "# # Calculate the accuracy of the classifier\n",
    "# accuracy = accuracy_score(y_test, y_pred)\n",
    "# print(f\"Accuracy: {accuracy}\")\n"
   ]
  },
  {
   "cell_type": "code",
   "execution_count": 20,
   "metadata": {},
   "outputs": [],
   "source": [
    "# # Training a neural network\n",
    "# model = keras.Sequential([\n",
    "#     keras.layers.Dense(128, activation='relu', input_shape=(X_train.shape[1],)),\n",
    "#     keras.layers.Dense(64, activation='relu'),\n",
    "#     keras.layers.Dense(1, activation='sigmoid')\n",
    "# ])\n",
    "\n",
    "# model.compile(optimizer='adam', loss='binary_crossentropy', metrics=['accuracy'])\n",
    "\n",
    "# model.fit(X_train, y_train, epochs=50, batch_size=32)\n",
    "\n",
    "# train_probs = model.predict(X_train)\n",
    "# train_preds = (train_probs > 0.5).astype(int).flatten()\n",
    "\n",
    "# test_probs = model.predict(X_test)\n",
    "# test_preds = (test_probs > 0.5).astype(int).flatten()\n",
    "\n",
    "# train_accuracy = accuracy_score(y_train, train_preds)\n",
    "# print(f\"Training Accuracy: {train_accuracy:.2f}\")\n",
    "\n",
    "# test_accuracy = accuracy_score(y_test, test_preds)\n",
    "# print(f\"Test Accuracy: {test_accuracy:.2f}\")\n"
   ]
  },
  {
   "cell_type": "code",
   "execution_count": 21,
   "metadata": {},
   "outputs": [],
   "source": [
    "# # Predicting test data with a neural network\n",
    "\n",
    "# model = keras.Sequential([\n",
    "#     keras.layers.Dense(128, activation='relu', input_shape=(X_train.shape[1],)),\n",
    "#     keras.layers.Dense(64, activation='relu'),\n",
    "#     keras.layers.Dense(1, activation='sigmoid')\n",
    "# ])\n",
    "\n",
    "# model.compile(optimizer='adam', loss='binary_crossentropy', metrics=['accuracy'])\n",
    "\n",
    "# model.fit(X, y, epochs=50, batch_size=32)\n",
    "\n",
    "# predictions = model.predict(datat)\n",
    "# predictions = (predictions > 0.5).astype(int).flatten()\n",
    "\n",
    "# predicted_labels = np.argmax(predictions, axis=1)\n",
    "\n"
   ]
  },
  {
   "cell_type": "code",
   "execution_count": 22,
   "metadata": {},
   "outputs": [],
   "source": [
    "# # Submitting for the neural network (for Kaggle)\n",
    "# submission_df = pd.DataFrame({\n",
    "#     'PassengerId': raw_test['PassengerId'],\n",
    "#     'Transported': predicted_labels.astype(bool)\n",
    "# })\n",
    "# submission_df.to_csv('submit.csv', index = False)"
   ]
  },
  {
   "cell_type": "code",
   "execution_count": 25,
   "metadata": {},
   "outputs": [],
   "source": [
    "# Submitting for other models (for Kaggle)\n",
    "model.fit(X, y)\n",
    "datat = datat.astype(int)\n",
    "predictions = model.predict(datat)\n",
    "submission_df = pd.DataFrame({\n",
    "    'PassengerId': raw_test['PassengerId'],\n",
    "    'Transported': predictions.astype(bool)\n",
    "})\n",
    "submission_df.to_csv('submit.csv', index = False)"
   ]
  },
  {
   "cell_type": "code",
   "execution_count": null,
   "metadata": {},
   "outputs": [],
   "source": []
  }
 ],
 "metadata": {
  "kernelspec": {
   "display_name": "Python 3",
   "language": "python",
   "name": "python3"
  },
  "language_info": {
   "codemirror_mode": {
    "name": "ipython",
    "version": 3
   },
   "file_extension": ".py",
   "mimetype": "text/x-python",
   "name": "python",
   "nbconvert_exporter": "python",
   "pygments_lexer": "ipython3",
   "version": "3.11.4"
  }
 },
 "nbformat": 4,
 "nbformat_minor": 2
}
